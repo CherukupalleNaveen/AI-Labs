{
  "nbformat": 4,
  "nbformat_minor": 0,
  "metadata": {
    "colab": {
      "private_outputs": true,
      "provenance": [],
      "gpuType": "T4",
      "include_colab_link": true
    },
    "kernelspec": {
      "name": "python3",
      "display_name": "Python 3"
    },
    "language_info": {
      "name": "python"
    },
    "accelerator": "GPU"
  },
  "cells": [
    {
      "cell_type": "markdown",
      "metadata": {
        "id": "view-in-github",
        "colab_type": "text"
      },
      "source": [
        "<a href=\"https://colab.research.google.com/github/CherukupalleNaveen/AI-Labs/blob/master/Moseca_Music_Source_Separation_%26_Karaoke.ipynb\" target=\"_parent\"><img src=\"https://colab.research.google.com/assets/colab-badge.svg\" alt=\"Open In Colab\"/></a>"
      ]
    },
    {
      "cell_type": "markdown",
      "source": [
        "# Launch Moseca app using Colab GPU for fast music source separation\n",
        "\n",
        "---\n",
        "[GitHub](https://github.com/fabiogra/moseca) • [HuggingFace](https://huggingface.co/spaces/fabiogra/moseca)"
      ],
      "metadata": {
        "id": "UNUbDzCsQp-T"
      }
    },
    {
      "cell_type": "code",
      "execution_count": null,
      "metadata": {
        "id": "MLZzJyvIJ5Ey"
      },
      "outputs": [],
      "source": [
        "#@title Install dependencies\n",
        "# Install Python with proper version\n",
        "!sudo apt-get install python3.10\n",
        "!sudo apt-get update -y\n",
        "!sudo apt install python3.10-venv\n",
        "!sudo apt install python3-pip\n",
        "# Validate Python version\n",
        "!python --version\n",
        "# Install localtunnel for streamlit\n",
        "!npm install localtunnel\n",
        "# Establish environment and generate a virtual environment for Moseca\n",
        "\n",
        "%cd /content\n",
        "!rm -rf moseca\n",
        "!git clone https://github.com/fabiogra/moseca.git\n",
        "!pip3 install virtualenv\n",
        "!virtualenv moseca\n",
        "%cd /content/moseca\n",
        "!wget --progress=bar:force:noscroll https://huggingface.co/fabiogra/baseline_vocal_remover/resolve/main/baseline.pth\n",
        "!source /content/moseca/bin/activate; pip3 install --no-cache-dir -r requirements.txt ;\n"
      ]
    },
    {
      "cell_type": "markdown",
      "source": [
        "# Run streamlit"
      ],
      "metadata": {
        "id": "7F_6hJinKoc4"
      }
    },
    {
      "cell_type": "code",
      "source": [
        "#@title Run Moseca App { vertical-output: true }\n",
        "print(\"You will see real time app logs below.\\nPaste the resulting IP address into the website's input field.\")\n",
        "!source /content/moseca/bin/activate;PYTHONPATH=$PYTHONPATH:/content/moseca && streamlit run app/header.py &>/content/logs.txt & npx localtunnel --port 8501 & curl ipv4.icanhazip.com;  tail -f /content/logs.txt\n"
      ],
      "metadata": {
        "id": "3BiV8P07LScr"
      },
      "execution_count": null,
      "outputs": []
    }
  ]
}